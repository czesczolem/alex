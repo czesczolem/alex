{
 "cells": [
  {
   "cell_type": "code",
   "execution_count": 66,
   "metadata": {},
   "outputs": [
    {
     "name": "stdout",
     "output_type": "stream",
     "text": [
      "ilosc:  1000\n"
     ]
    }
   ],
   "source": [
    "#!/usr/bin/env python\n",
    "# -*- coding: utf-8 -*-\n",
    "\n",
    "from elasticsearch import Elasticsearch as es\n",
    "from sklearn.feature_extraction.text import CountVectorizer\n",
    "from sklearn.preprocessing import StandardScaler\n",
    "import numpy as np\n",
    "c = CountVectorizer()\n",
    "\n",
    "config = {'index': 'dataset',\n",
    "              'doc_type': 'data'}\n",
    "\n",
    "es = es()\n",
    "data = es.search(index=config['index'], body={\"query\": {\"match_all\": {}}, \"size\": 1000})\n",
    "hits = data['hits']['hits']\n",
    "\n",
    "print \"ilosc: \", len(hits)"
   ]
  },
  {
   "cell_type": "code",
   "execution_count": 42,
   "metadata": {},
   "outputs": [
    {
     "name": "stdout",
     "output_type": "stream",
     "text": [
      "[[0 0 0 ... 0 0 0]\n",
      " [0 0 0 ... 0 0 0]\n",
      " [0 0 0 ... 0 0 0]\n",
      " ...\n",
      " [0 0 0 ... 0 0 1]\n",
      " [0 0 0 ... 0 0 1]\n",
      " [0 0 0 ... 0 0 0]]\n"
     ]
    }
   ],
   "source": [
    "corpus = []\n",
    "\n",
    "for hit in hits:\n",
    "    attrs = hit['_source']['properties']\n",
    "    att_str = \" \".join(attrs)\n",
    "    corpus.append(att_str)\n",
    "\n",
    "    \n",
    "\n",
    "x = c.fit_transform(corpus)\n",
    "print x.toarray()"
   ]
  },
  {
   "cell_type": "code",
   "execution_count": 43,
   "metadata": {},
   "outputs": [
    {
     "name": "stdout",
     "output_type": "stream",
     "text": [
      "[[-0.34725301 -0.07088812 -0.0548546  ... -0.37102079 -0.37102079\n",
      "  -0.11915865]\n",
      " [-0.34725301 -0.07088812 -0.0548546  ... -0.37102079 -0.37102079\n",
      "  -0.11915865]\n",
      " [-0.34725301 -0.07088812 -0.0548546  ... -0.37102079 -0.37102079\n",
      "  -0.11915865]\n",
      " ...\n",
      " [-0.34725301 -0.07088812 -0.0548546  ... -0.37102079 -0.37102079\n",
      "   8.39217322]\n",
      " [-0.34725301 -0.07088812 -0.0548546  ... -0.37102079 -0.37102079\n",
      "   8.39217322]\n",
      " [-0.34725301 -0.07088812 -0.0548546  ... -0.37102079 -0.37102079\n",
      "  -0.11915865]]\n"
     ]
    }
   ],
   "source": [
    "xa = x.toarray()\n",
    "xas = StandardScaler().fit_transform(xa)\n",
    "print xas"
   ]
  },
  {
   "cell_type": "code",
   "execution_count": 44,
   "metadata": {},
   "outputs": [
    {
     "name": "stdout",
     "output_type": "stream",
     "text": [
      "(1000, 107)\n"
     ]
    }
   ],
   "source": [
    "print xas.shape"
   ]
  },
  {
   "cell_type": "code",
   "execution_count": 45,
   "metadata": {},
   "outputs": [
    {
     "data": {
      "text/plain": [
       "array([-0.34725301, -0.07088812, -0.0548546 , -0.0776931 , -0.0776931 ,\n",
       "       -0.12751534, -0.09529814, -0.0316386 , -0.04476615, -0.0316386 ,\n",
       "       -0.11915865, -0.0316386 , -0.06337243, -0.04476615, -0.04476615,\n",
       "       -0.0316386 , -0.0316386 , -0.04476615, -0.07088812, -0.0548546 ,\n",
       "       -0.0548546 , -0.04476615, -0.04476615, -0.0548546 , -0.0316386 ,\n",
       "       -0.0316386 , -0.07088812, -0.09529814, -0.07088812, -0.06337243,\n",
       "       -0.04476615, -0.0548546 , -0.04476615, -0.04476615, -0.0316386 ,\n",
       "       -0.06337243, -0.04476615, -0.0776931 , -0.0776931 , -0.0316386 ,\n",
       "       -0.07088812, -0.04476615, -0.0548546 , -0.0548546 , -0.37450081,\n",
       "       -0.0548546 , -0.0776931 , -0.06337243, -0.04476615, -0.08396038,\n",
       "       -0.10546253, -0.07088812, -0.04476615, -0.0548546 , -0.11915865,\n",
       "       -0.0548546 , -0.08980265, -0.09529814, -0.10546253, -0.06337243,\n",
       "       -0.11476596, -0.43318409, -0.0316386 , -0.08396038, -0.0548546 ,\n",
       "       -0.0316386 , -0.11476596, -0.44291336,  5.1747249 , -0.0316386 ,\n",
       "       -0.04476615, -0.8527108 , -0.08980265, -0.06337243, -0.0776931 ,\n",
       "       -0.06337243, -0.07088812, -0.0776931 , -0.0776931 , -0.06337243,\n",
       "       -0.08980265, -0.0316386 , -0.04476615, -0.26582666, -0.0548546 ,\n",
       "       -0.04476615, -0.37102079, -0.36927447, -0.17281816, -0.37102079,\n",
       "        0.37102079,  0.4017962 ,  0.37102079, -0.0316386 , -0.0316386 ,\n",
       "       -0.37102079, -0.37102079, -0.37102079,  0.37102079, -0.0316386 ,\n",
       "       -0.37102079, -0.04476615,  0.37796447, -0.04476615, -0.37102079,\n",
       "       -0.37102079, -0.11915865])"
      ]
     },
     "execution_count": 45,
     "metadata": {},
     "output_type": "execute_result"
    }
   ],
   "source": [
    "xas[0]"
   ]
  },
  {
   "cell_type": "code",
   "execution_count": 46,
   "metadata": {},
   "outputs": [],
   "source": [
    "from sklearn.decomposition import PCA\n",
    "import pandas as pd\n",
    "pca = PCA(n_components=2)\n",
    "principalComponents = pca.fit_transform(xas)\n",
    "principalDf = pd.DataFrame(data = principalComponents\n",
    "             , columns = ['principal component 1', 'principal component 2'])"
   ]
  },
  {
   "cell_type": "code",
   "execution_count": 47,
   "metadata": {},
   "outputs": [],
   "source": [
    "from matplotlib import pyplot as plt"
   ]
  },
  {
   "cell_type": "code",
   "execution_count": 48,
   "metadata": {},
   "outputs": [
    {
     "data": {
      "text/plain": [
       "(1000, 2)"
      ]
     },
     "execution_count": 48,
     "metadata": {},
     "output_type": "execute_result"
    }
   ],
   "source": [
    "principalComponents.shape"
   ]
  },
  {
   "cell_type": "code",
   "execution_count": 49,
   "metadata": {},
   "outputs": [
    {
     "data": {
      "text/plain": [
       "[<matplotlib.lines.Line2D at 0x7f2f8e420150>,\n",
       " <matplotlib.lines.Line2D at 0x7f2f8e420210>]"
      ]
     },
     "execution_count": 49,
     "metadata": {},
     "output_type": "execute_result"
    },
    {
     "data": {
      "image/png": "[encoded data removed]",
      "text/plain": [
       "<Figure size 432x288 with 1 Axes>"
      ]
     },
     "metadata": {},
     "output_type": "display_data"
    }
   ],
   "source": [
    "plt.plot(principalComponents)"
   ]
  },
  {
   "cell_type": "code",
   "execution_count": 50,
   "metadata": {},
   "outputs": [],
   "source": [
    "# fig = plt.figure()\n",
    "# ax = fig.add_subplot(1,1,1)\n",
    "# ax.scatter(principalComponents)"
   ]
  },
  {
   "cell_type": "code",
   "execution_count": 60,
   "metadata": {},
   "outputs": [
    {
     "ename": "TypeError",
     "evalue": "unhashable type: 'numpy.ndarray'",
     "output_type": "error",
     "traceback": [
      "\u001b[0;31m---------------------------------------------------------------------------\u001b[0m",
      "\u001b[0;31mTypeError\u001b[0m                                 Traceback (most recent call last)",
      "\u001b[0;32m<ipython-input-60-385228f3be9e>\u001b[0m in \u001b[0;36m<module>\u001b[0;34m()\u001b[0m\n\u001b[1;32m      1\u001b[0m \u001b[0mdata\u001b[0m \u001b[0;34m=\u001b[0m \u001b[0;34m{\u001b[0m\u001b[0;34m}\u001b[0m\u001b[0;34m\u001b[0m\u001b[0m\n\u001b[1;32m      2\u001b[0m \u001b[0;32mfor\u001b[0m \u001b[0mx\u001b[0m \u001b[0;32min\u001b[0m \u001b[0mxa\u001b[0m\u001b[0;34m:\u001b[0m\u001b[0;34m\u001b[0m\u001b[0m\n\u001b[0;32m----> 3\u001b[0;31m     \u001b[0;32mif\u001b[0m \u001b[0mdata\u001b[0m\u001b[0;34m[\u001b[0m\u001b[0mx\u001b[0m\u001b[0;34m]\u001b[0m\u001b[0;34m:\u001b[0m\u001b[0;34m\u001b[0m\u001b[0m\n\u001b[0m\u001b[1;32m      4\u001b[0m         \u001b[0mdata\u001b[0m\u001b[0;34m[\u001b[0m\u001b[0mx\u001b[0m\u001b[0;34m]\u001b[0m \u001b[0;34m=\u001b[0m \u001b[0mdata\u001b[0m\u001b[0;34m[\u001b[0m\u001b[0mx\u001b[0m\u001b[0;34m]\u001b[0m \u001b[0;34m+\u001b[0m \u001b[0;36m1\u001b[0m\u001b[0;34m\u001b[0m\u001b[0m\n\u001b[1;32m      5\u001b[0m     \u001b[0;32melse\u001b[0m\u001b[0;34m:\u001b[0m\u001b[0;34m\u001b[0m\u001b[0m\n",
      "\u001b[0;31mTypeError\u001b[0m: unhashable type: 'numpy.ndarray'"
     ]
    }
   ],
   "source": [
    "data = {}\n",
    "for x in xa:\n",
    "    if data[x]:\n",
    "        data[x] = data[x] + 1\n",
    "    else:\n",
    "        data[x] = 1\n",
    "data"
   ]
  },
  {
   "cell_type": "code",
   "execution_count": 68,
   "metadata": {},
   "outputs": [
    {
     "data": {
      "text/plain": [
       "array([[0, 0, 0, ..., 0, 0, 0],\n",
       "       [0, 0, 0, ..., 0, 0, 0],\n",
       "       [0, 0, 0, ..., 0, 0, 0],\n",
       "       ...,\n",
       "       [2, 0, 0, ..., 1, 1, 0],\n",
       "       [2, 0, 0, ..., 1, 1, 0],\n",
       "       [2, 0, 0, ..., 1, 1, 0]])"
      ]
     },
     "execution_count": 68,
     "metadata": {},
     "output_type": "execute_result"
    }
   ],
   "source": [
    "np.unique(xa, axis=0)"
   ]
  },
  {
   "cell_type": "code",
   "execution_count": 69,
   "metadata": {},
   "outputs": [],
   "source": [
    "import nltk"
   ]
  },
  {
   "cell_type": "code",
   "execution_count": 70,
   "metadata": {},
   "outputs": [],
   "source": [
    "fq = nltk.probability.FreqDist(corpus)"
   ]
  },
  {
   "cell_type": "code",
   "execution_count": 71,
   "metadata": {},
   "outputs": [
    {
     "data": {
      "text/plain": [
       "[(u'font-family: FNKNXJ+TimesNewRoman; font-size:5px', 411),\n",
       " (u'font-family: FNKNXJ+TimesNewRoman; font-size:3px', 162),\n",
       " (u'font-family: FNKNXJ+TimesNewRoman; font-size:2px', 144),\n",
       " (u'font-family: FNKNXJ+TimesNewRoman; font-size:8px', 66),\n",
       " (u'font-family: FNKNXJ+TimesNewRoman; font-size:4px', 36),\n",
       " (u'font-family: YXJZYM+TimesNewRoman; font-size:13px', 14),\n",
       " (u'font-family: FNKNXJ+TimesNewRoman,Bold; font-size:2px', 14),\n",
       " (u'font-family: FNKNXJ+TimesNewRoman,Bold; font-size:5px', 10),\n",
       " (u'font-family: FNKNXJ+TimesNewRoman; font-size:7px', 4),\n",
       " (u'font-family: FNKNXJ+TimesNewRoman; font-size:6px', 4),\n",
       " (u'font-family: FNKNXJ+TimesNewRoman; font-size:10px', 3),\n",
       " (u'position:absolute; border: black 1px solid; left:325px; top:18677px; width:0px; height:0px;',\n",
       "  2),\n",
       " (u'font-family: ABCDEE+Times; font-size:9px', 2),\n",
       " (u'font-family: FNKNXJ+TimesNewRoman; font-size:1px', 2),\n",
       " (u'font-family: FNKNXJ+TimesNewRoman,Bold; font-size:3px', 2),\n",
       " (u'font-family: FNKNXJ+TimesNewRoman,Bold; font-size:6px', 2),\n",
       " (u'position:absolute; border: black 1px solid; left:145px; top:20106px; width:0px; height:0px;',\n",
       "  1),\n",
       " (u'position:absolute; border: black 1px solid; left:283px; top:18323px; width:0px; height:0px;',\n",
       "  1),\n",
       " (u'position:absolute; border: black 1px solid; left:166px; top:19214px; width:0px; height:73px;',\n",
       "  1),\n",
       " (u'position:absolute; border: black 1px solid; left:202px; top:20106px; width:35px; height:0px;',\n",
       "  1),\n",
       " (u'position:absolute; border: black 1px solid; left:202px; top:20240px; width:0px; height:0px;',\n",
       "  1),\n",
       " (u'position:absolute; border: black 1px solid; left:316px; top:19063px; width:0px; height:83px;',\n",
       "  1),\n",
       " (u'position:absolute; border: black 1px solid; left:283px; top:18323px; width:20px; height:0px;',\n",
       "  1),\n",
       " (u'position:absolute; border: black 1px solid; left:88px; top:18094px; width:66px; height:0px;',\n",
       "  1),\n",
       " (u'position:absolute; border: black 1px solid; left:78px; top:20461px; width:0px; height:0px;',\n",
       "  1),\n",
       " (u'position:absolute; border: black 1px solid; left:145px; top:20107px; width:0px; height:73px;',\n",
       "  1),\n",
       " (u'position:absolute; border: black 1px solid; left:145px; top:20359px; width:20px; height:0px;',\n",
       "  1),\n",
       " (u'position:absolute; border: black 1px solid; left:211px; top:18677px; width:0px; height:0px;',\n",
       "  1),\n",
       " (u'position:absolute; border: black 1px solid; left:166px; top:20240px; width:0px; height:0px;',\n",
       "  1),\n",
       " (u'position:absolute; border: black 1px solid; left:202px; top:19063px; width:0px; height:83px;',\n",
       "  1),\n",
       " (u'position:absolute; border: black 1px solid; left:304px; top:18677px; width:20px; height:0px;',\n",
       "  1),\n",
       " (u'position:absolute; border: black 1px solid; left:295px; top:19214px; width:0px; height:0px;',\n",
       "  1),\n",
       " (u'position:absolute; border: black 1px solid; left:274px; top:18986px; width:20px; height:0px;',\n",
       "  1),\n",
       " (u'position:absolute; border: black 1px solid; left:202px; top:19878px; width:0px; height:76px;',\n",
       "  1),\n",
       " (u'position:absolute; border: black 1px solid; left:175px; top:17965px; width:0px; height:129px;',\n",
       "  1),\n",
       " (u'position:absolute; border: black 1px solid; left:247px; top:18171px; width:0px; height:0px;',\n",
       "  1),\n",
       " (u'position:absolute; border: black 1px solid; left:295px; top:18856px; width:0px; height:0px;',\n",
       "  1),\n",
       " (u'position:absolute; border: black 1px solid; left:316px; top:19569px; width:0px; height:0px;',\n",
       "  1),\n",
       " (u'position:absolute; border: black 1px solid; left:79px; top:20240px; width:66px; height:0px;',\n",
       "  1),\n",
       " (u'position:absolute; border: black 1px solid; left:146px; top:19569px; width:20px; height:0px;',\n",
       "  1),\n",
       " (u'position:absolute; border: black 1px solid; left:316px; top:20461px; width:0px; height:0px;',\n",
       "  1),\n",
       " (u'position:absolute; border: black 1px solid; left:203px; top:19062px; width:35px; height:0px;',\n",
       "  1),\n",
       " (u'position:absolute; border: black 1px solid; left:176px; top:18255px; width:35px; height:0px;',\n",
       "  1),\n",
       " (u'position:absolute; border: black 1px solid; left:316px; top:20106px; width:0px; height:0px;',\n",
       "  1),\n",
       " (u'position:absolute; border: black 1px solid; left:166px; top:19467px; width:0px; height:0px;',\n",
       "  1),\n",
       " (u'position:absolute; border: black 1px solid; left:175px; top:18397px; width:0px; height:59px;',\n",
       "  1),\n",
       " (u'position:absolute; border: black 1px solid; left:203px; top:18986px; width:35px; height:0px;',\n",
       "  1),\n",
       " (u'position:absolute; border: black 1px solid; left:202px; top:19347px; width:0px; height:0px;',\n",
       "  1),\n",
       " (u'position:absolute; border: black 1px solid; left:78px; top:19062px; width:0px; height:0px;',\n",
       "  1),\n",
       " (u'position:absolute; border: black 1px solid; left:238px; top:20180px; width:35px; height:0px;',\n",
       "  1)]"
      ]
     },
     "execution_count": 71,
     "metadata": {},
     "output_type": "execute_result"
    }
   ],
   "source": [
    "fq.most_common(50)"
   ]
  },
  {
   "cell_type": "code",
   "execution_count": null,
   "metadata": {},
   "outputs": [],
   "source": []
  }
 ],
 "metadata": {
  "kernelspec": {
   "display_name": "Python 2",
   "language": "python",
   "name": "python2"
  },
  "language_info": {
   "codemirror_mode": {
    "name": "ipython",
    "version": 2
   },
   "file_extension": ".py",
   "mimetype": "text/x-python",
   "name": "python",
   "nbconvert_exporter": "python",
   "pygments_lexer": "ipython2",
   "version": "2.7.12"
  }
 },
 "nbformat": 4,
 "nbformat_minor": 2
}
